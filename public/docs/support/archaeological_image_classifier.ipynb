{
  "nbformat": 4,
  "nbformat_minor": 0,
  "metadata": {
    "colab": {
      "name": "archaeological-image-classifier.ipynb",
      "provenance": [],
      "collapsed_sections": [],
      "toc_visible": true,
      "authorship_tag": "ABX9TyPdFRXR3INJifxvZTlzu3+s",
      "include_colab_link": true
    },
    "kernelspec": {
      "name": "python3",
      "display_name": "Python 3"
    },
    "accelerator": "GPU"
  },
  "cells": [
    {
      "cell_type": "markdown",
      "metadata": {
        "id": "view-in-github",
        "colab_type": "text"
      },
      "source": [
        "<a href=\"https://colab.research.google.com/github/shawngraham/hist3000/blob/master/archaeological_image_classifier.ipynb\" target=\"_parent\"><img src=\"https://colab.research.google.com/assets/colab-badge.svg\" alt=\"Open In Colab\"/></a>"
      ]
    },
    {
      "cell_type": "markdown",
      "metadata": {
        "id": "a61zWhwvDdLG",
        "colab_type": "text"
      },
      "source": [
        "# Getting Started \n",
        "We're going to build an archaeological image classifier using Tensorflow, a library of python packages designed to perform machine learning tasks. We are going to train a model to recognize different kinds of Roman pottery. (We are following a modified version of the [Tensorflow for poets](https://codelabs.developers.google.com/codelabs/tensorflow-for-poets/#0) tutorial, using slightly older versions of Tensorflow, but a version that I know _works_).\n",
        "\n",
        "The data we're going to use comes from [Potsherd: Atlas of Roman Pottery](http://potsherd.net/atlas/potsherd). I've already downloaded the dataset, using a bit of python (as described [here](https://bonetrade.github.io/tutorials/tensorflow-for-poets/)). The zip file with those images is available in the course data directory. It's not the full database; rather, I just put together a small set of ten or so different types of pottery, just to keep things manageable. \n",
        "\n",
        "Download the zip file, and then upload it to your google drive account. (If you go to https://drive.google.com, you can click the big `+ New`, select `upload file`.)\n",
        "\n",
        "Don't put it in a subfolder.  \n",
        "\n",
        "## Make sure we've got a GPU running\n",
        "\n",
        "Click on `edit` -> `notebook settings` and change `hardware accelerator` to `GPU`. Then click `save`. Machine learning is extremely heavy in the sense that it requires a lot of computational resources. Running the calculations on a GPU rather than a CPU (your normal processor) can speed up the work significantly. And of course, some code explicitly requires a GPU rather than a CPU."
      ]
    },
    {
      "cell_type": "markdown",
      "metadata": {
        "id": "JjmCKq8tEJ5o",
        "colab_type": "text"
      },
      "source": [
        "## Connect your gdrive\n",
        "\n",
        "The snippet below will make your gdrive available to this notebook. Run the block. It will give you a link to go to, which will ask you to authorize access. Say 'yes'. It will then give you a code. Copy that code, then come back to this block and paste it in the entry box. Once you've done that, your gdrive will become available in the `Files` panel at left."
      ]
    },
    {
      "cell_type": "code",
      "metadata": {
        "id": "TRhKIoeADLQq",
        "colab_type": "code",
        "colab": {}
      },
      "source": [
        "from google.colab import drive\n",
        "drive.mount('/content/drive')\n"
      ],
      "execution_count": null,
      "outputs": []
    },
    {
      "cell_type": "markdown",
      "metadata": {
        "id": "zAMi7uTgEf6a",
        "colab_type": "text"
      },
      "source": [
        "## Copy the zip file from your gdrive, and then unzip it\n",
        "\n",
        "The next code block copies the zipped folder you uploaded to your gdrive into this notebook environment, and then unzips the contents.\n"
      ]
    },
    {
      "cell_type": "code",
      "metadata": {
        "id": "4S1a8MywEsn1",
        "colab_type": "code",
        "colab": {}
      },
      "source": [
        "# If you have data already on google drive\n",
        "%cp \"/content/drive/My Drive/data.zip\" data.zip\n",
        "\n",
        "!unzip data.zip"
      ],
      "execution_count": null,
      "outputs": []
    },
    {
      "cell_type": "markdown",
      "metadata": {
        "id": "plhliRlVFF1b",
        "colab_type": "text"
      },
      "source": [
        "---\n",
        "\n",
        "# Get Tensorflow Set Up\n",
        "\n",
        "The version we're going to use is 1.7. It's not the most recent version, but I know it works.\n"
      ]
    },
    {
      "cell_type": "code",
      "metadata": {
        "id": "jvineJ3iFxee",
        "colab_type": "code",
        "colab": {}
      },
      "source": [
        "! pip install --upgrade \"tensorflow==1.7.*\""
      ],
      "execution_count": null,
      "outputs": []
    },
    {
      "cell_type": "markdown",
      "metadata": {
        "id": "1_I2Bch6GJSX",
        "colab_type": "text"
      },
      "source": [
        "Now we get the codebase that we'll use from the tensorflow for poets repo:"
      ]
    },
    {
      "cell_type": "code",
      "metadata": {
        "id": "llaK08nAF0_G",
        "colab_type": "code",
        "colab": {}
      },
      "source": [
        "!git clone https://github.com/googlecodelabs/tensorflow-for-poets-2\n",
        "\n"
      ],
      "execution_count": null,
      "outputs": []
    },
    {
      "cell_type": "code",
      "metadata": {
        "id": "0RMzEkvfHHBA",
        "colab_type": "code",
        "colab": {}
      },
      "source": [
        "# and we change our working directory:\n",
        "%cd tensorflow-for-poets-2\n"
      ],
      "execution_count": null,
      "outputs": []
    },
    {
      "cell_type": "markdown",
      "metadata": {
        "id": "tuQcqZDAHyx9",
        "colab_type": "text"
      },
      "source": [
        "# Retrain the model\n",
        "Now let's do some training so that the computer learns what Roman archaeology looks like. Because our pottery training data - though copious - is still not enough (fewer than 10000 images), we have to modify our command, concerning validation batch size. Otherwise we’ll get an error message. Note also that we’re only training for 500 steps; more steps will generally get better results (but diminishing returns also apply)."
      ]
    },
    {
      "cell_type": "code",
      "metadata": {
        "id": "5kSqDTXOHyiR",
        "colab_type": "code",
        "colab": {}
      },
      "source": [
        "!python -m scripts.retrain \\\n",
        "  --bottleneck_dir=tf_files/bottlenecks \\\n",
        "  --how_many_training_steps=500 \\\n",
        "  --model_dir=tf_files/models/ \\\n",
        "  --summaries_dir=tf_files/training_summaries/mobilenet_0.50_224 \\\n",
        "  --output_graph=tf_files/retrained_graph.pb \\\n",
        "  --output_labels=tf_files/retrained_labels.txt \\\n",
        "  --architecture mobilenet_0.50_224 \\\n",
        "  --validation_batch_size=-1 \\\n",
        "  --image_dir=../data/ware # this is the location of our data"
      ],
      "execution_count": null,
      "outputs": []
    },
    {
      "cell_type": "markdown",
      "metadata": {
        "id": "te9vR6iOI6ur",
        "colab_type": "text"
      },
      "source": [
        "# Test!\n",
        "\n",
        "This is the fun part. In the data I provided, there is a folder called `unknown`. It has some photos of pottery in there. Let's get our model to identify the pottery!"
      ]
    },
    {
      "cell_type": "code",
      "metadata": {
        "id": "hr008qdIHyM2",
        "colab_type": "code",
        "colab": {}
      },
      "source": [
        "# let's grab a pot that we know is black burnished ware:\n",
        "!curl \"http://www.pottedhistory.co.uk/image/Roman%20Black%20Burnished%20Ware(800x532).jpg\" > bbtest.jpg"
      ],
      "execution_count": null,
      "outputs": []
    },
    {
      "cell_type": "code",
      "metadata": {
        "id": "YJY2_8-sOgl-",
        "colab_type": "code",
        "colab": {}
      },
      "source": [
        "!python -m scripts.label_image \\\n",
        "    --graph=tf_files/retrained_graph.pb  \\\n",
        "    --image=bbtest.jpg\n",
        "\n",
        "## there will be some warnings. But at the end, it will tell you which ware it thinks the photo is of.\n",
        "## (If you want to know what kind of pottery the code represents, just add the code to the end of\n",
        "## this url in a new window: http://potsherd.net/atlas/Ware/) eg\n",
        "## http://potsherd.net/atlas/Ware/BB1 will bring up Black Burnished Ware"
      ],
      "execution_count": null,
      "outputs": []
    },
    {
      "cell_type": "code",
      "metadata": {
        "id": "cr0fNrkEPFiV",
        "colab_type": "code",
        "colab": {}
      },
      "source": [
        "## If that image was _misclassified_, can you think why that might be?\n",
        "## Try this one:\n",
        "!curl \"http://www.futuremuseum.co.uk/imageGen.ashx?image=%2fmedia%2f3901%2f9083.jpg\" > bbtest2.jpg"
      ],
      "execution_count": null,
      "outputs": []
    },
    {
      "cell_type": "code",
      "metadata": {
        "id": "NjWX3SaTPTeV",
        "colab_type": "code",
        "colab": {}
      },
      "source": [
        "!python -m scripts.label_image \\\n",
        "    --graph=tf_files/retrained_graph.pb  \\\n",
        "    --image=bbtest2.jpg"
      ],
      "execution_count": null,
      "outputs": []
    },
    {
      "cell_type": "markdown",
      "metadata": {
        "id": "uEDIqJ5oPZiY",
        "colab_type": "text"
      },
      "source": [
        "## Success?\n",
        "\n",
        "We've certainly built an image classifier, but there are some problems. There are both technical issues, and ethical issues (on the ethical issues, see [this article about using this kind of tech in the context of human remains](https://intarch.ac.uk/journal/issue52/5/toc.html). Tech-wise, the biggest issue is that we're training on a dataset that is just _too small_. For this to _really_ work well enough to the point where we might actually want to use it, we'd need thousands of images. There are shortcuts we could use (image augmentation, where we rotate and otherwise make slightly different versions of our source images, for instance). \n",
        "\n",
        "Archaeologists are using this basic approach (with much sophistication and nuance) for a wide variety of tasks. [In this paper, they're using it to identify archaeological sites from satellite data.](https://www.pnas.org/content/early/2020/07/17/2005583117).\n",
        "\n",
        "## Going Further\n",
        "\n",
        "You could try finding more training data; you could augment the images you do have [with this code](https://colab.research.google.com/drive/1Sxo8mMdmvdzHkNMAcCTxHomHhaCdkIyf?usp=sharing). "
      ]
    }
  ]
}